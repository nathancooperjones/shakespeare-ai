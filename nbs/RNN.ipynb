{
 "cells": [
  {
   "cell_type": "code",
   "execution_count": 1,
   "metadata": {},
   "outputs": [],
   "source": [
    "%reload_ext autoreload\n",
    "%autoreload 2"
   ]
  },
  {
   "cell_type": "code",
   "execution_count": 2,
   "metadata": {},
   "outputs": [],
   "source": [
    "from shakespeare_ai.learner import ShakespeareLearner"
   ]
  },
  {
   "cell_type": "code",
   "execution_count": 3,
   "metadata": {},
   "outputs": [
    {
     "name": "stdout",
     "output_type": "stream",
     "text": [
      "Vocabulary size: 68270.\n"
     ]
    }
   ],
   "source": [
    "learner = ShakespeareLearner(train_file='/Users/nathancooperjones/Desktop/shakespeare-ai/data/all-shakespeare.txt')"
   ]
  },
  {
   "cell_type": "code",
   "execution_count": null,
   "metadata": {},
   "outputs": [
    {
     "name": "stdout",
     "output_type": "stream",
     "text": [
      "Epoch: 0/200 Iteration: 100 Loss: 7.808030605316162\n",
      "How do I know I would for the a to my lord, his the a of my and I have to my to to I will to my the I have his and his of a and my the his I am to my to I would I have his of this I will the his of this to I will the the the to I am a I have the a of his and my the my of this of this of his and the my and his to his I am the my lord, to my I would to the a to\n",
      "Epoch: 0/200 Iteration: 200 Loss: 7.630317211151123\n",
      "How do I know I would for the a to my lord, his the a of my and I have to my to to I will to my the I have his and his of a and my the his I am to my to I would I have his of this I will the his of this to I will the the the to I am a I have the a of his and my the my of this of this of his and the my and his to his I am the my lord, to my I would to the a to be the red And not be his own red rose.] is not a good lord. of the Prince I will not have a man in his heart To be his heart And have been my lord. And so and his hand And you not a man of the Prince And I shall so not not the red and the world and my lord. and the the Prince in a own own a good lord, thou not not my good lord, to his head. and my lord. HAMLET I have not the world with a son in thy and his own own\n"
     ]
    }
   ],
   "source": [
    "learner.train()"
   ]
  },
  {
   "cell_type": "code",
   "execution_count": null,
   "metadata": {},
   "outputs": [],
   "source": []
  }
 ],
 "metadata": {
  "kernelspec": {
   "display_name": "Python 3",
   "language": "python",
   "name": "python3"
  },
  "language_info": {
   "codemirror_mode": {
    "name": "ipython",
    "version": 3
   },
   "file_extension": ".py",
   "mimetype": "text/x-python",
   "name": "python",
   "nbconvert_exporter": "python",
   "pygments_lexer": "ipython3",
   "version": "3.7.5"
  }
 },
 "nbformat": 4,
 "nbformat_minor": 4
}
