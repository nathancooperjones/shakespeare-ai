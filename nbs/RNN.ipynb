{
 "cells": [
  {
   "cell_type": "code",
   "execution_count": 1,
   "metadata": {},
   "outputs": [],
   "source": [
    "%reload_ext autoreload\n",
    "%autoreload 2"
   ]
  },
  {
   "cell_type": "code",
   "execution_count": 2,
   "metadata": {},
   "outputs": [],
   "source": [
    "from shakespeare_ai.learner import ShakespeareLearner"
   ]
  },
  {
   "cell_type": "code",
   "execution_count": 3,
   "metadata": {},
   "outputs": [
    {
     "name": "stdout",
     "output_type": "stream",
     "text": [
      "Vocabulary size: 68,270 words.\n"
     ]
    }
   ],
   "source": [
    "learner = ShakespeareLearner(train_file='/Users/nathancooperjones/Desktop/shakespeare-ai/data/all-shakespeare.txt',\n",
    "                             batch_size=32,\n",
    "                             seq_size=32,\n",
    "                             embedding_size=64,\n",
    "                             lstm_size=128,\n",
    "                             lr=0.01,\n",
    "                             gradients_norm=5,\n",
    "                             initial_words=None,\n",
    "                             predict_top_k=3,\n",
    "                             checkpoint_path='checkpoint',\n",
    "                             checkpoint_frequency=1000,\n",
    "                             verbose=True)"
   ]
  },
  {
   "cell_type": "code",
   "execution_count": null,
   "metadata": {},
   "outputs": [
    {
     "name": "stderr",
     "output_type": "stream",
     "text": [
      "  2%|▏         | 1/50 [1:51:46<91:16:49, 6706.32s/ epoch]"
     ]
    },
    {
     "name": "stdout",
     "output_type": "stream",
     "text": [
      "Epoch:  0   Iteration:   0     Loss: 932.00000 \n",
      "cony-catching. I have been a good night. HORATIO A goodly maid that is a very good of the world is the world of a very good and a man of my heart and my good lord. I will have been the other and to my heart, I am the very of the Duke hath made me in my heart, and I will have been so much as the man of my love and the Duke and the Duke and a little and the world to the King that I would not see you to my lord in my heart. [He throws down\n"
     ]
    }
   ],
   "source": [
    "learner.train()"
   ]
  },
  {
   "cell_type": "markdown",
   "metadata": {},
   "source": [
    "----- "
   ]
  },
  {
   "cell_type": "code",
   "execution_count": null,
   "metadata": {},
   "outputs": [],
   "source": [
    "learner.load('checkpoint/model-5000.pth')"
   ]
  },
  {
   "cell_type": "code",
   "execution_count": null,
   "metadata": {},
   "outputs": [],
   "source": [
    "learner.predict('there')"
   ]
  },
  {
   "cell_type": "markdown",
   "metadata": {},
   "source": [
    "----- "
   ]
  }
 ],
 "metadata": {
  "kernelspec": {
   "display_name": "Python 3",
   "language": "python",
   "name": "python3"
  },
  "language_info": {
   "codemirror_mode": {
    "name": "ipython",
    "version": 3
   },
   "file_extension": ".py",
   "mimetype": "text/x-python",
   "name": "python",
   "nbconvert_exporter": "python",
   "pygments_lexer": "ipython3",
   "version": "3.7.5"
  }
 },
 "nbformat": 4,
 "nbformat_minor": 4
}
